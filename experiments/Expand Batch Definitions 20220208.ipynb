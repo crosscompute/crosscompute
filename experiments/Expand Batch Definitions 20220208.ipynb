{
 "cells": [
  {
   "cell_type": "code",
   "execution_count": 32,
   "id": "2d45eec9-9970-4e5d-97df-692e88929cd0",
   "metadata": {},
   "outputs": [
    {
     "data": {
      "text/plain": [
       "PosixPath('/home/rhh/Projects/crosscompute-examples/reports/randomize-histograms/automate.yml')"
      ]
     },
     "execution_count": 32,
     "metadata": {},
     "output_type": "execute_result"
    }
   ],
   "source": [
    "from pathlib import Path\n",
    "\n",
    "examples_folder = Path('~/Projects/crosscompute-examples').expanduser()\n",
    "automation_folder = configuration_folder = examples_folder / 'reports/randomize-histograms'\n",
    "configuration_path = configuration_folder / 'automate.yml'\n",
    "configuration_path"
   ]
  },
  {
   "cell_type": "code",
   "execution_count": 29,
   "id": "21073666-660b-496c-92ad-185c0408f26c",
   "metadata": {},
   "outputs": [
    {
     "data": {
      "text/plain": [
       "[{'folder': 'batches/a'},\n",
       " {'folder': 'batches/me{mean}-va{variance}-vc{value_count}-bc{bin_count}',\n",
       "  'configuration': {'path': 'datasets/batches.csv'}},\n",
       " {'folder': 'batches/me{mean}-va{variance}-vc{value_count}-bc{bin_count}',\n",
       "  'reference': {'folder': 'batches/a'},\n",
       "  'configuration': {'path': 'datasets/batches-vc-bc.csv'}}]"
      ]
     },
     "execution_count": 29,
     "metadata": {},
     "output_type": "execute_result"
    }
   ],
   "source": [
    "from crosscompute.routines.configuration import *\n",
    "\n",
    "configuration = load_configuration(configuration_path)\n",
    "raw_batch_definitions = configuration.get('batches', [])\n",
    "raw_batch_definitions"
   ]
  },
  {
   "cell_type": "code",
   "execution_count": 30,
   "id": "a431b6f2-a4e3-4c9e-bf7c-34cd36a9c447",
   "metadata": {},
   "outputs": [
    {
     "data": {
      "text/plain": [
       "{'folder': 'batches/a'}"
      ]
     },
     "execution_count": 30,
     "metadata": {},
     "output_type": "execute_result"
    }
   ],
   "source": [
    "raw_batch_definition = raw_batch_definitions[0]\n",
    "raw_batch_definition"
   ]
  },
  {
   "cell_type": "code",
   "execution_count": 31,
   "id": "7e3aac6a-325c-40e5-9e88-becb915bca66",
   "metadata": {},
   "outputs": [],
   "source": [
    "if 'configuration' in raw_batch_definition:\n",
    "    pass"
   ]
  },
  {
   "cell_type": "code",
   "execution_count": null,
   "id": "5edb4011-4f39-4a31-8ebf-cb0400b9d4e4",
   "metadata": {},
   "outputs": [],
   "source": [
    "batch_folder = raw_batch_definition['folder']\n",
    "absolute_batch_folder = join(automation_folder, batch_folder)\n",
    "if exists(absolute_batch_folder):\n",
    "    pass"
   ]
  },
  {
   "cell_type": "code",
   "execution_count": null,
   "id": "f3f9be81-6252-4e17-bc1a-b66997561f11",
   "metadata": {},
   "outputs": [],
   "source": [
    "# If a configuration exists, load data_by_id from it\n",
    "# If folder exists, load anything missing from it\n",
    "# If reference exists, load remaining\n",
    "# Check for missing variables\n",
    "# Save extra variables in variables.dictionary"
   ]
  },
  {
   "cell_type": "code",
   "execution_count": null,
   "id": "973afbfb-b1fe-4041-b3c3-388030390e73",
   "metadata": {},
   "outputs": [],
   "source": [
    "# 1. reference folder\n",
    "# 2. folder\n",
    "# 3. configuration path"
   ]
  },
  {
   "cell_type": "code",
   "execution_count": 13,
   "id": "a2c0c6bb-1235-423c-bedc-c857d4302920",
   "metadata": {},
   "outputs": [
    {
     "name": "stdout",
     "output_type": "stream",
     "text": [
      "{'folder': 'batches/a'}\n"
     ]
    },
    {
     "data": {
      "text/plain": [
       "[{'folder': 'batches/a', 'name': 'a', 'slug': 'a', 'uri': '/b/a'}]"
      ]
     },
     "execution_count": 13,
     "metadata": {},
     "output_type": "execute_result"
    }
   ],
   "source": [
    "raw_batch_definition = raw_batch_definitions[0]\n",
    "print(raw_batch_definition)\n",
    "batch_definition = normalize_batch_definition(raw_batch_definition)\n",
    "batch_slug = batch_definition['slug'] or format_slug(batch_definition['name'])                            \n",
    "batch_definition['slug'] = batch_slug \n",
    "batch_definition['uri'] = BATCH_ROUTE.format(batch_slug=batch_slug) \n",
    "[batch_definition]"
   ]
  },
  {
   "cell_type": "code",
   "execution_count": 34,
   "id": "078bb601-8375-4617-8ecb-ce64ea6e9a8f",
   "metadata": {},
   "outputs": [],
   "source": [
    "def get_batch_definitions_from_path(\n",
    "        path, batch_definition, variable_definitions):\n",
    "    file_extension = splitext(path)[1]\n",
    "    try:\n",
    "        yield_data_by_id = {\n",
    "            '.csv': yield_data_by_id_from_csv,\n",
    "            '.txt': yield_data_by_id_from_txt,\n",
    "        }[file_extension]\n",
    "    except KeyError:\n",
    "        raise CrossComputeConfigurationError(\n",
    "            f'{file_extension} not supported for batch configuration')\n",
    "    batch_folder = batch_definition['folder']\n",
    "    batch_name = batch_definition['name']\n",
    "    batch_slug = batch_definition['slug']\n",
    "    batch_definitions = []\n",
    "    for data_by_id in yield_data_by_id(path, variable_definitions):\n",
    "        folder = format_text(batch_folder, data_by_id)\n",
    "        print('folder', folder)\n",
    "        name = format_text(batch_name, data_by_id)\n",
    "        slug = format_text(\n",
    "            batch_slug, data_by_id) if batch_slug else format_slug(name)\n",
    "        batch_definitions.append(batch_definition | {\n",
    "            'folder': folder, 'name': name, 'slug': slug,\n",
    "            'uri': BATCH_ROUTE.format(batch_slug=slug),\n",
    "            'data_by_id': data_by_id})\n",
    "    return batch_definitions"
   ]
  },
  {
   "cell_type": "code",
   "execution_count": 36,
   "id": "26e9db6f-d722-4901-9f56-d9cc68edb93f",
   "metadata": {},
   "outputs": [
    {
     "name": "stdout",
     "output_type": "stream",
     "text": [
      "{'folder': 'batches/auto0/me{mean}-va{variance}-vc{value_count}-bc{bin_count}', 'configuration': {'path': 'datasets/batches.csv'}}\n",
      "folder batches/auto0/me0-va1-vc1000-bc100\n",
      "folder batches/auto0/me0-va1-vc3000-bc100\n",
      "folder batches/auto0/me0-va1-vc5000-bc100\n"
     ]
    },
    {
     "data": {
      "text/plain": [
       "[{'folder': 'batches/auto0/me0-va1-vc1000-bc100',\n",
       "  'name': 'me0-va1-vc1000-bc100',\n",
       "  'slug': 'me0-va1-vc1000-bc100',\n",
       "  'uri': '/b/me0-va1-vc1000-bc100',\n",
       "  'data_by_id': {'mean': 0,\n",
       "   'variance': 1,\n",
       "   'value_count': 1000,\n",
       "   'bin_count': 100}},\n",
       " {'folder': 'batches/auto0/me0-va1-vc3000-bc100',\n",
       "  'name': 'me0-va1-vc3000-bc100',\n",
       "  'slug': 'me0-va1-vc3000-bc100',\n",
       "  'uri': '/b/me0-va1-vc3000-bc100',\n",
       "  'data_by_id': {'mean': 0,\n",
       "   'variance': 1,\n",
       "   'value_count': 3000,\n",
       "   'bin_count': 100}},\n",
       " {'folder': 'batches/auto0/me0-va1-vc5000-bc100',\n",
       "  'name': 'me0-va1-vc5000-bc100',\n",
       "  'slug': 'me0-va1-vc5000-bc100',\n",
       "  'uri': '/b/me0-va1-vc5000-bc100',\n",
       "  'data_by_id': {'mean': 0,\n",
       "   'variance': 1,\n",
       "   'value_count': 5000,\n",
       "   'bin_count': 100}}]"
      ]
     },
     "execution_count": 36,
     "metadata": {},
     "output_type": "execute_result"
    }
   ],
   "source": [
    "raw_batch_definition = raw_batch_definitions[1]\n",
    "print(raw_batch_definition)\n",
    "batch_definition = normalize_batch_definition(raw_batch_definition)\n",
    "automation_folder = configuration['folder']                          \n",
    "variable_definitions = get_variable_definitions(configuration, 'input') \n",
    "batch_configuration = raw_batch_definition['configuration']\n",
    "get_batch_definitions_from_path(join(  \n",
    "    automation_folder, batch_configuration['path'],  \n",
    "), batch_definition, variable_definitions)"
   ]
  },
  {
   "cell_type": "code",
   "execution_count": 32,
   "id": "85abd7e7-9e35-45fb-a400-8165e5ec1ec9",
   "metadata": {},
   "outputs": [
    {
     "data": {
      "text/plain": [
       "6"
      ]
     },
     "execution_count": 32,
     "metadata": {},
     "output_type": "execute_result"
    }
   ],
   "source": [
    "len(raw_batch_definitions)"
   ]
  },
  {
   "cell_type": "code",
   "execution_count": 37,
   "id": "cd29c964-6e87-45b9-89a2-1df9bcd1d042",
   "metadata": {},
   "outputs": [
    {
     "name": "stdout",
     "output_type": "stream",
     "text": [
      "{'folder': 'batches/auto1/me{mean}-va{variance}-vc{value_count}-bc{bin_count}', 'variables': [{'id': 'mean', 'code': '[0, 10]'}, {'id': 'variance', 'code': 'range(1, 3)'}, {'id': 'value_count', 'code': \"__import__('numpy').linspace(10, 10000, num=5)\"}, {'id': 'bin_count', 'code': \"__import__('numpy').logspace(1, 3, num=3)\"}]}\n"
     ]
    }
   ],
   "source": [
    "raw_batch_definition = raw_batch_definitions[2]\n",
    "print(raw_batch_definition)\n",
    "batch_definition = normalize_batch_definition(raw_batch_definition)"
   ]
  },
  {
   "cell_type": "code",
   "execution_count": 15,
   "id": "3b0c1320-e16b-4360-8abb-f5711449e4eb",
   "metadata": {},
   "outputs": [],
   "source": [
    "'''\n",
    "from crosscompute.routines.configuration import *\n",
    "\n",
    "def get_batch_definitions(configuration):                                \n",
    "    batch_definitions = []\n",
    "    automation_folder = configuration['folder']                          \n",
    "    variable_definitions = get_variable_definitions(                     \n",
    "        configuration, 'input')                                          \n",
    "    for raw_batch_definition in configuration.get('batches', []):        \n",
    "        try:                                                             \n",
    "            batch_definition = normalize_batch_definition(raw_batch_definition) \n",
    "            if 'configuration' in raw_batch_definition:                  \n",
    "                batch_configuration = raw_batch_definition['configuration']\n",
    "                if 'path' in batch_configuration:\n",
    "                    definitions = get_batch_definitions_from_path(join(  \n",
    "                        automation_folder, batch_configuration['path'],  \n",
    "                    ), batch_definition, variable_definitions)\n",
    "                # TODO: Support batch_configuration['uri']\n",
    "                else:\n",
    "                    raise CrossComputeConfigurationError(\n",
    "                        'path expected for each batch configuration')    \n",
    "            else:   \n",
    "                batch_slug = batch_definition['slug'] or format_slug(    \n",
    "                    batch_definition['name'])                            \n",
    "                batch_definition['slug'] = batch_slug \n",
    "                batch_definition['uri'] = BATCH_ROUTE.format(            \n",
    "                    batch_slug=batch_slug) \n",
    "                definitions = [batch_definition]\n",
    "        except CrossComputeConfigurationError as e:                      \n",
    "            L.error(e)\n",
    "            continue\n",
    "        batch_definitions.extend(definitions)                            \n",
    "    return batch_definitions\n",
    "\n",
    "get_batch_definitions(d)\n",
    "''';"
   ]
  }
 ],
 "metadata": {
  "kernelspec": {
   "display_name": "Python 3 (ipykernel)",
   "language": "python",
   "name": "python3"
  },
  "language_info": {
   "codemirror_mode": {
    "name": "ipython",
    "version": 3
   },
   "file_extension": ".py",
   "mimetype": "text/x-python",
   "name": "python",
   "nbconvert_exporter": "python",
   "pygments_lexer": "ipython3",
   "version": "3.10.2"
  }
 },
 "nbformat": 4,
 "nbformat_minor": 5
}
