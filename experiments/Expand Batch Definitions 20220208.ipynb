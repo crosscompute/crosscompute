{
 "cells": [
  {
   "cell_type": "code",
   "execution_count": null,
   "id": "2d45eec9-9970-4e5d-97df-692e88929cd0",
   "metadata": {},
   "outputs": [],
   "source": [
    "from pathlib import Path\n",
    "\n",
    "examples_folder = Path('~/Projects/crosscompute-examples').expanduser()\n",
    "automation_folder = configuration_folder = examples_folder / 'reports/randomize-histograms'\n",
    "configuration_path = configuration_folder / 'automate.yml'\n",
    "configuration_path"
   ]
  },
  {
   "cell_type": "code",
   "execution_count": null,
   "id": "21073666-660b-496c-92ad-185c0408f26c",
   "metadata": {},
   "outputs": [],
   "source": [
    "from crosscompute.routines.configuration import *\n",
    "from crosscompute.routines.validation import *\n",
    "\n",
    "configuration = load_configuration(configuration_path)\n",
    "raw_batch_definitions = configuration.get('batches', [])\n",
    "raw_batch_definitions"
   ]
  },
  {
   "cell_type": "code",
   "execution_count": null,
   "id": "a431b6f2-a4e3-4c9e-bf7c-34cd36a9c447",
   "metadata": {},
   "outputs": [],
   "source": [
    "raw_batch_definition = BatchDefinition(raw_batch_definitions[2])\n",
    "raw_batch_definition"
   ]
  },
  {
   "cell_type": "code",
   "execution_count": null,
   "id": "6ab88661-9180-4505-8d29-bccea722e9a2",
   "metadata": {},
   "outputs": [],
   "source": [
    "reference_folder = raw_batch_definition['reference']['folder']\n",
    "reference_folder"
   ]
  },
  {
   "cell_type": "code",
   "execution_count": null,
   "id": "6d5da716-8397-4dd2-a9c9-af61281d6236",
   "metadata": {},
   "outputs": [],
   "source": [
    "(configuration.folder / reference_folder).exists()\n",
    "# TODO: Check that reference folder exists"
   ]
  },
  {
   "cell_type": "code",
   "execution_count": null,
   "id": "570c12e9-2e7a-44a1-a4dc-ce45bf7eff05",
   "metadata": {},
   "outputs": [],
   "source": [
    "variable_definitions = configuration.get_variable_definitions('input')\n",
    "variable_definitions"
   ]
  },
  {
   "cell_type": "code",
   "execution_count": null,
   "id": "5972db7c-2904-400b-9a39-a58e09c71aaf",
   "metadata": {},
   "outputs": [],
   "source": [
    "data_by_id = {}\n",
    "variable_definition = variable_definitions[0]\n",
    "variable_definition"
   ]
  },
  {
   "cell_type": "code",
   "execution_count": null,
   "id": "19e14c0b-e55d-42a6-94e8-7727f8ccbf49",
   "metadata": {},
   "outputs": [],
   "source": [
    "variable_definition.__dict__"
   ]
  },
  {
   "cell_type": "code",
   "execution_count": null,
   "id": "c71430cb-56af-4625-bb62-2c292ce683a1",
   "metadata": {},
   "outputs": [],
   "source": [
    "join(configuration.folder, reference_folder)"
   ]
  },
  {
   "cell_type": "code",
   "execution_count": null,
   "id": "101d823e-9e40-4e22-9ee8-88ba61306f3e",
   "metadata": {},
   "outputs": [],
   "source": [
    "variable_definition.path"
   ]
  },
  {
   "cell_type": "code",
   "execution_count": null,
   "id": "8f3ab80b-d45e-4f05-821a-89f8e7de1c12",
   "metadata": {},
   "outputs": [],
   "source": [
    "from crosscompute.routines.variable import *\n",
    "load_variable_data(\n",
    "    configuration.folder / reference_folder / 'input' / variable_definition.path,\n",
    "    variable_definition.id)"
   ]
  },
  {
   "cell_type": "code",
   "execution_count": null,
   "id": "02588fbe-d702-4e23-b11a-e0e5b4ba6ce7",
   "metadata": {},
   "outputs": [],
   "source": [
    "def get_data_by_id_from_folder(folder, variable_definitions):\n",
    "    data_by_id = {}\n",
    "    for variable_definition in variable_definitions:\n",
    "        variable_id = variable_definition.id\n",
    "        variable_path = variable_definition.path\n",
    "        variable_data = load_variable_data(folder / variable_path, variable_id)\n",
    "        data_by_id[variable_id] = variable_data\n",
    "    return data_by_id\n",
    "\n",
    "variable_definitions = configuration.get_variable_definitions('input')\n",
    "reference_data_by_id = get_data_by_id_from_folder(\n",
    "    configuration.folder / reference_folder / 'input',\n",
    "    variable_definitions)\n",
    "reference_data_by_id"
   ]
  },
  {
   "cell_type": "code",
   "execution_count": null,
   "id": "46052284-44d5-461c-ba9f-a5f75782acd9",
   "metadata": {},
   "outputs": [],
   "source": [
    "raw_batch_definition"
   ]
  },
  {
   "cell_type": "code",
   "execution_count": null,
   "id": "863fdb68-b167-4f3e-840c-fc88f96d171e",
   "metadata": {},
   "outputs": [],
   "source": [
    "from crosscompute.routines.validation import *"
   ]
  },
  {
   "cell_type": "code",
   "execution_count": null,
   "id": "026a9fe0-20a4-4ba7-bbfc-6dc74d7a7d3a",
   "metadata": {},
   "outputs": [],
   "source": [
    "batch_configuration_path = raw_batch_definition['configuration']['path']\n",
    "batch_configuration_path"
   ]
  },
  {
   "cell_type": "code",
   "execution_count": null,
   "id": "622ad03b-e829-401e-906e-47abcaa3c285",
   "metadata": {},
   "outputs": [],
   "source": [
    "import csv\n",
    "\n",
    "def yield_data_by_id_from_csv(path, variable_definitions):\n",
    "    try:\n",
    "        with path.open('rt') as f:\n",
    "            csv_reader = csv.reader(f)\n",
    "            keys = [_.strip() for _ in next(csv_reader)]\n",
    "            for values in csv_reader:\n",
    "                data_by_id = {k: {'value': v} for k, v in zip(keys, values)}\n",
    "                data_by_id = parse_data_by_id(data_by_id, variable_definitions)\n",
    "                if data_by_id.get('#') == '#':\n",
    "                    continue\n",
    "                yield data_by_id\n",
    "    except OSError:\n",
    "        raise CrossComputeConfigurationError(f'{path} path not found')"
   ]
  },
  {
   "cell_type": "code",
   "execution_count": null,
   "id": "2bc521cc-dd67-4819-836a-5c2009691005",
   "metadata": {},
   "outputs": [],
   "source": [
    "list(yield_data_by_id_from_csv(automation_folder / batch_configuration_path, variable_definitions))"
   ]
  },
  {
   "cell_type": "code",
   "execution_count": null,
   "id": "de1a6666-79b3-44bf-b2fa-09b61e78dd8c",
   "metadata": {},
   "outputs": [],
   "source": [
    "configuration_data_by_id = next(yield_data_by_id_from_csv(automation_folder / batch_configuration_path, variable_definitions))\n",
    "configuration_data_by_id"
   ]
  },
  {
   "cell_type": "code",
   "execution_count": null,
   "id": "5deb593a-f9cc-4d12-9ee7-f737052809b9",
   "metadata": {},
   "outputs": [],
   "source": [
    "reference_data_by_id.update(configuration_data_by_id)\n",
    "reference_data_by_id"
   ]
  },
  {
   "cell_type": "code",
   "execution_count": null,
   "id": "c8ec7fa9-8a89-4faf-bbf8-669d74fed36f",
   "metadata": {},
   "outputs": [],
   "source": [
    "data_by_id = reference_data_by_id | configuration_data_by_id\n",
    "data_by_id"
   ]
  },
  {
   "cell_type": "code",
   "execution_count": null,
   "id": "82e0e374-ea29-4112-981c-658b8c5b20ff",
   "metadata": {},
   "outputs": [],
   "source": [
    "raw_batch_folder = raw_batch_definition.folder\n",
    "raw_batch_name = raw_batch_definition.name\n",
    "raw_batch_slug = raw_batch_definition.slug\n",
    "raw_batch_definition.__dict__"
   ]
  },
  {
   "cell_type": "code",
   "execution_count": null,
   "id": "a5ad26fe-dd86-4901-95d9-6b66f7fe5cfc",
   "metadata": {},
   "outputs": [],
   "source": [
    "data_by_id"
   ]
  },
  {
   "cell_type": "code",
   "execution_count": null,
   "id": "ef3b2a24-c9c1-47e4-ab10-756b04998a71",
   "metadata": {},
   "outputs": [],
   "source": [
    "str(raw_batch_folder)"
   ]
  },
  {
   "cell_type": "code",
   "execution_count": null,
   "id": "32aa1009-6ef1-463d-8cab-ed3da2d91bc2",
   "metadata": {},
   "outputs": [],
   "source": [
    "batch_folder = format_text(str(raw_batch_folder), data_by_id)\n",
    "batch_folder"
   ]
  },
  {
   "cell_type": "code",
   "execution_count": null,
   "id": "638d2ccb-60cd-4932-aefa-9d2890f31955",
   "metadata": {},
   "outputs": [],
   "source": [
    "batch_name = format_text(raw_batch_name, data_by_id)\n",
    "batch_name"
   ]
  },
  {
   "cell_type": "code",
   "execution_count": null,
   "id": "1a91e935-9635-4dce-aad7-81c4db8d2e3f",
   "metadata": {},
   "outputs": [],
   "source": [
    "batch_slug = format_text(raw_batch_slug, data_by_id)\n",
    "batch_slug"
   ]
  },
  {
   "cell_type": "code",
   "execution_count": null,
   "id": "8333e649-4708-40d4-8ef7-58f3dc5df066",
   "metadata": {},
   "outputs": [],
   "source": [
    "def get_batch_definitions_from_path(\n",
    "        batch_configuration_path, raw_batch_definition, variable_definitions):\n",
    "    if 'folder' in raw_batch_definition.reference:\n",
    "        pass\n",
    "    return []"
   ]
  },
  {
   "cell_type": "code",
   "execution_count": null,
   "id": "cf5ba4ae-26d5-4349-8cb0-8427ce1445b3",
   "metadata": {},
   "outputs": [],
   "source": [
    "def get_batch_definitions(\n",
    "        raw_batch_definition, automation_folder, variable_definitions):\n",
    "    batch_definitions = []\n",
    "    raw_batch_definition = BatchDefinition(raw_batch_definition)\n",
    "\n",
    "    if 'folder' in raw_batch_definition.reference:\n",
    "        reference_folder = raw_batch_definition.reference['folder']\n",
    "        reference_data_by_id = get_data_by_id_from_folder(\n",
    "            automation_folder / reference_folder / 'input',\n",
    "            variable_definitions)\n",
    "    else:\n",
    "        reference_data_by_id = {}\n",
    "\n",
    "    if 'path' in raw_batch_definition.configuration:\n",
    "        batch_configuration_path = raw_batch_definition.configuration['path']\n",
    "        for configuration_data_by_id in yield_data_by_id_from_csv(\n",
    "                automation_folder / batch_configuration_path, variable_definitions):\n",
    "            batch_definitions.append(BatchDefinition(\n",
    "                raw_batch_definition,\n",
    "                data_by_id=reference_data_by_id | configuration_data_by_id))\n",
    "    else:\n",
    "        batch_definitions.append(BatchDefinition(\n",
    "            raw_batch_definition,\n",
    "            data_by_id=reference_data_by_id))\n",
    "    return batch_definitions\n",
    "\n",
    "get_batch_definitions(\n",
    "    raw_batch_definition, automation_folder, variable_definitions)"
   ]
  },
  {
   "cell_type": "code",
   "execution_count": null,
   "id": "f3f9be81-6252-4e17-bc1a-b66997561f11",
   "metadata": {},
   "outputs": [],
   "source": [
    "# If a configuration exists, load data_by_id from it\n",
    "# If folder exists, load anything missing from it\n",
    "# If reference exists, load remaining\n",
    "# Check for missing variables\n",
    "# Save extra variables in variables.dictionary"
   ]
  },
  {
   "cell_type": "code",
   "execution_count": null,
   "id": "973afbfb-b1fe-4041-b3c3-388030390e73",
   "metadata": {},
   "outputs": [],
   "source": [
    "# 1. reference folder\n",
    "# 3. configuration path"
   ]
  }
 ],
 "metadata": {
  "kernelspec": {
   "display_name": "Python 3 (ipykernel)",
   "language": "python",
   "name": "python3"
  },
  "language_info": {
   "codemirror_mode": {
    "name": "ipython",
    "version": 3
   },
   "file_extension": ".py",
   "mimetype": "text/x-python",
   "name": "python",
   "nbconvert_exporter": "python",
   "pygments_lexer": "ipython3",
   "version": "3.10.2"
  }
 },
 "nbformat": 4,
 "nbformat_minor": 5
}
