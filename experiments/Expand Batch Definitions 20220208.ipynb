{
 "cells": [
  {
   "cell_type": "code",
   "execution_count": null,
   "id": "2d45eec9-9970-4e5d-97df-692e88929cd0",
   "metadata": {},
   "outputs": [],
   "source": [
    "from pathlib import Path\n",
    "\n",
    "examples_folder = Path('~/Projects/crosscompute-examples').expanduser()\n",
    "automation_folder = configuration_folder = examples_folder / 'reports/randomize-histograms'\n",
    "configuration_path = configuration_folder / 'automate.yml'\n",
    "configuration_path"
   ]
  },
  {
   "cell_type": "code",
   "execution_count": null,
   "id": "21073666-660b-496c-92ad-185c0408f26c",
   "metadata": {},
   "outputs": [],
   "source": [
    "from crosscompute.routines.configuration import *\n",
    "\n",
    "configuration = load_configuration(configuration_path)\n",
    "raw_batch_definitions = configuration.get('batches', [])\n",
    "raw_batch_definitions"
   ]
  },
  {
   "cell_type": "code",
   "execution_count": null,
   "id": "a431b6f2-a4e3-4c9e-bf7c-34cd36a9c447",
   "metadata": {},
   "outputs": [],
   "source": [
    "raw_batch_definition = raw_batch_definitions[1]\n",
    "raw_batch_definition"
   ]
  },
  {
   "cell_type": "code",
   "execution_count": null,
   "id": "eff9094b-3aa1-4d77-8b3a-1238ce3eb544",
   "metadata": {},
   "outputs": [],
   "source": [
    "def get_data_by_id_from_folder(folder, variable_definitions):\n",
    "    data_by_id = {}\n",
    "    for variable_definition in variable_definitions:\n",
    "        variable_id = variable_definition['id']\n",
    "        path = join(folder, variable_definition['path'])\n",
    "        if not exists(path):\n",
    "            continue\n",
    "        file_extension = splitext(path)[1]\n",
    "        if file_extension == '.dictionary':\n",
    "                value_by_id = json.load(file)\n",
    "                for i, v in value_by_id.items():\n",
    "                    VARIABLE_CACHE[(path, i)] = new_time, v \n",
    "                value = value_by_id[variable_id]\n",
    "\n",
    "        else:\n",
    "            data = \n",
    "        data_by_id\n",
    "    return data_by_id\n",
    "\n",
    "variable_definitions = get_variable_definitions(configuration, 'input') \n",
    "get_data_by_id_from_folder(automation_folder / 'batches/a', variable_definitions)"
   ]
  },
  {
   "cell_type": "code",
   "execution_count": null,
   "id": "b93a2cc3-3bdb-4eb8-a782-1f850676ef11",
   "metadata": {},
   "outputs": [],
   "source": []
  },
  {
   "cell_type": "code",
   "execution_count": null,
   "id": "81dd1e48-d3f2-4900-9ef5-980fb95ae95e",
   "metadata": {},
   "outputs": [],
   "source": [
    "def yield_data_by_id_from_csv(path, variable_definitions):\n",
    "    pass"
   ]
  },
  {
   "cell_type": "code",
   "execution_count": null,
   "id": "5619f7a3-a705-46c5-8153-05e8fd26fb9b",
   "metadata": {},
   "outputs": [],
   "source": [
    "def yield_data_by_id_from_txt(path, variable_definitions):\n",
    "    pass"
   ]
  },
  {
   "cell_type": "code",
   "execution_count": null,
   "id": "7e3aac6a-325c-40e5-9e88-becb915bca66",
   "metadata": {},
   "outputs": [],
   "source": [
    "if 'configuration' in raw_batch_definition:\n",
    "    batch_configuration = raw_batch_definition['configuration']\n",
    "    if 'path' in batch_configuration:\n",
    "        yield_data_by_id_from_path(join(\n",
    "            automation_folder, batch_configuration['path']))\n",
    "    # TODO: Support batch_configuration['uri']\n",
    "    else:\n",
    "        raise CrossComputeConfigurationError('path expected for each batch configuration')"
   ]
  },
  {
   "cell_type": "code",
   "execution_count": null,
   "id": "5edb4011-4f39-4a31-8ebf-cb0400b9d4e4",
   "metadata": {},
   "outputs": [],
   "source": [
    "batch_folder = raw_batch_definition['folder']\n",
    "absolute_batch_folder = join(automation_folder, batch_folder)\n",
    "if exists(absolute_batch_folder):\n",
    "    pass"
   ]
  },
  {
   "cell_type": "code",
   "execution_count": null,
   "id": "f3f9be81-6252-4e17-bc1a-b66997561f11",
   "metadata": {},
   "outputs": [],
   "source": [
    "# If a configuration exists, load data_by_id from it\n",
    "# If folder exists, load anything missing from it\n",
    "# If reference exists, load remaining\n",
    "# Check for missing variables\n",
    "# Save extra variables in variables.dictionary"
   ]
  },
  {
   "cell_type": "code",
   "execution_count": null,
   "id": "973afbfb-b1fe-4041-b3c3-388030390e73",
   "metadata": {},
   "outputs": [],
   "source": [
    "# 1. reference folder\n",
    "# 2. folder\n",
    "# 3. configuration path"
   ]
  },
  {
   "cell_type": "code",
   "execution_count": null,
   "id": "a2c0c6bb-1235-423c-bedc-c857d4302920",
   "metadata": {},
   "outputs": [],
   "source": [
    "raw_batch_definition = raw_batch_definitions[0]\n",
    "print(raw_batch_definition)\n",
    "batch_definition = normalize_batch_definition(raw_batch_definition)\n",
    "batch_slug = batch_definition['slug'] or format_slug(batch_definition['name'])                            \n",
    "batch_definition['slug'] = batch_slug \n",
    "batch_definition['uri'] = BATCH_ROUTE.format(batch_slug=batch_slug) \n",
    "[batch_definition]"
   ]
  },
  {
   "cell_type": "code",
   "execution_count": null,
   "id": "078bb601-8375-4617-8ecb-ce64ea6e9a8f",
   "metadata": {},
   "outputs": [],
   "source": [
    "def get_batch_definitions_from_path(\n",
    "        path, batch_definition, variable_definitions):\n",
    "    file_extension = splitext(path)[1]\n",
    "    try:\n",
    "        yield_data_by_id = {\n",
    "            '.csv': yield_data_by_id_from_csv,\n",
    "            '.txt': yield_data_by_id_from_txt,\n",
    "        }[file_extension]\n",
    "    except KeyError:\n",
    "        raise CrossComputeConfigurationError(\n",
    "            f'{file_extension} not supported for batch configuration')\n",
    "    batch_folder = batch_definition['folder']\n",
    "    batch_name = batch_definition['name']\n",
    "    batch_slug = batch_definition['slug']\n",
    "    batch_definitions = []\n",
    "    for data_by_id in yield_data_by_id(path, variable_definitions):\n",
    "        folder = format_text(batch_folder, data_by_id)\n",
    "        print('folder', folder)\n",
    "        name = format_text(batch_name, data_by_id)\n",
    "        slug = format_text(\n",
    "            batch_slug, data_by_id) if batch_slug else format_slug(name)\n",
    "        batch_definitions.append(batch_definition | {\n",
    "            'folder': folder, 'name': name, 'slug': slug,\n",
    "            'uri': BATCH_ROUTE.format(batch_slug=slug),\n",
    "            'data_by_id': data_by_id})\n",
    "    return batch_definitions"
   ]
  },
  {
   "cell_type": "code",
   "execution_count": null,
   "id": "26e9db6f-d722-4901-9f56-d9cc68edb93f",
   "metadata": {},
   "outputs": [],
   "source": [
    "raw_batch_definition = raw_batch_definitions[1]\n",
    "print(raw_batch_definition)\n",
    "batch_definition = normalize_batch_definition(raw_batch_definition)\n",
    "automation_folder = configuration['folder']                          \n",
    "variable_definitions = get_variable_definitions(configuration, 'input') \n",
    "batch_configuration = raw_batch_definition['configuration']\n",
    "get_batch_definitions_from_path(join(  \n",
    "    automation_folder, batch_configuration['path'],  \n",
    "), batch_definition, variable_definitions)"
   ]
  },
  {
   "cell_type": "code",
   "execution_count": null,
   "id": "85abd7e7-9e35-45fb-a400-8165e5ec1ec9",
   "metadata": {},
   "outputs": [],
   "source": [
    "len(raw_batch_definitions)"
   ]
  },
  {
   "cell_type": "code",
   "execution_count": null,
   "id": "cd29c964-6e87-45b9-89a2-1df9bcd1d042",
   "metadata": {},
   "outputs": [],
   "source": [
    "raw_batch_definition = raw_batch_definitions[2]\n",
    "print(raw_batch_definition)\n",
    "batch_definition = normalize_batch_definition(raw_batch_definition)"
   ]
  },
  {
   "cell_type": "code",
   "execution_count": null,
   "id": "3b0c1320-e16b-4360-8abb-f5711449e4eb",
   "metadata": {},
   "outputs": [],
   "source": [
    "'''\n",
    "from crosscompute.routines.configuration import *\n",
    "\n",
    "def get_batch_definitions(configuration):                                \n",
    "    batch_definitions = []\n",
    "    automation_folder = configuration['folder']                          \n",
    "    variable_definitions = get_variable_definitions(                     \n",
    "        configuration, 'input')                                          \n",
    "    for raw_batch_definition in configuration.get('batches', []):        \n",
    "        try:                                                             \n",
    "            batch_definition = normalize_batch_definition(raw_batch_definition) \n",
    "            if 'configuration' in raw_batch_definition:                  \n",
    "                batch_configuration = raw_batch_definition['configuration']\n",
    "                if 'path' in batch_configuration:\n",
    "                    definitions = get_batch_definitions_from_path(join(  \n",
    "                        automation_folder, batch_configuration['path'],  \n",
    "                    ), batch_definition, variable_definitions)\n",
    "                # TODO: Support batch_configuration['uri']\n",
    "                else:\n",
    "                    raise CrossComputeConfigurationError(\n",
    "                        'path expected for each batch configuration')    \n",
    "            else:   \n",
    "                batch_slug = batch_definition['slug'] or format_slug(    \n",
    "                    batch_definition['name'])                            \n",
    "                batch_definition['slug'] = batch_slug \n",
    "                batch_definition['uri'] = BATCH_ROUTE.format(            \n",
    "                    batch_slug=batch_slug) \n",
    "                definitions = [batch_definition]\n",
    "        except CrossComputeConfigurationError as e:                      \n",
    "            L.error(e)\n",
    "            continue\n",
    "        batch_definitions.extend(definitions)                            \n",
    "    return batch_definitions\n",
    "\n",
    "get_batch_definitions(d)\n",
    "''';"
   ]
  },
  {
   "cell_type": "code",
   "execution_count": null,
   "id": "7eaf026b-a04a-4a03-8eb7-70b581673806",
   "metadata": {},
   "outputs": [],
   "source": [
    "def load_variable_data(path, variable_id):\n",
    "    pass\n",
    "\n",
    "FILE_CACHE = {}\n",
    "path = (automation_folder / 'batches/a/input/variables.dictionary').expanduser()\n",
    "load_variable_data(path, 'mean')"
   ]
  },
  {
   "cell_type": "code",
   "execution_count": null,
   "id": "f4de8505-ca53-4645-baf9-76d13c4eb499",
   "metadata": {},
   "outputs": [],
   "source": [
    "from crosscompute.routines.variable import *\n",
    "\n",
    "new_time = getmtime(path)\n",
    "new_time"
   ]
  },
  {
   "cell_type": "code",
   "execution_count": null,
   "id": "caf4d275-eb7c-4536-90c2-be75ad1448d6",
   "metadata": {},
   "outputs": [],
   "source": [
    "if path in FILE_CACHE:                               \n",
    "    old_time, file_data = FILE_CACHE[path]      \n",
    "    if old_time == new_time:                            \n",
    "        return variable_value  "
   ]
  },
  {
   "cell_type": "code",
   "execution_count": null,
   "id": "52171f63-132b-4f07-8db3-9dfc1ce09ba8",
   "metadata": {},
   "outputs": [],
   "source": [
    "from collections import OrderedDict\n",
    "\n",
    "class LRUDict(OrderedDict):\n",
    "    # https://gist.github.com/davesteele/44793cd0348f59f8fadd49d7799bd306\n",
    "    \n",
    "    def __init__(self, *args, maximum_length: int, **kwargs):\n",
    "        assert maximum_length > 0\n",
    "        self.maximum_length = maximum_length\n",
    "        super().__init__(*args, **kwargs)\n",
    "\n",
    "    def __setitem__(self, key, value):\n",
    "        super().__setitem__(key, value)\n",
    "        super().move_to_end(key)\n",
    "        while len(self) > self.maximum_length:\n",
    "            super().__delitem__(next(iter(self)))\n",
    "\n",
    "    def __getitem__(self, key):\n",
    "        value = super().__getitem__(key)\n",
    "        super().move_to_end(key)\n",
    "        return value"
   ]
  },
  {
   "cell_type": "code",
   "execution_count": null,
   "id": "c3a6f026-9666-47e0-9bd9-028daa72e715",
   "metadata": {},
   "outputs": [],
   "source": [
    "d = LRUDict(maximum_length=3)\n",
    "d[1] = 1\n",
    "d[2] = 2\n",
    "d[3] = 3\n",
    "# d[7]"
   ]
  },
  {
   "cell_type": "code",
   "execution_count": null,
   "id": "765f2d02-b67b-4d1d-9bcc-8ae8ff32e933",
   "metadata": {},
   "outputs": [],
   "source": [
    "d[2]\n",
    "d[5] = 5\n",
    "d"
   ]
  },
  {
   "cell_type": "code",
   "execution_count": null,
   "id": "08580893-4e6c-4edd-8b88-119ce8c26a8a",
   "metadata": {},
   "outputs": [],
   "source": [
    "class FileCache(LRUDict):\n",
    "    \n",
    "    def __init__(self, *args, load_file_data, maximum_length: int, **kwargs):\n",
    "        super().__init__(*args, maximum_length=maximum_length, **kwargs)\n",
    "        self._load_file_data = load_file_data\n",
    "\n",
    "    def __getitem__(self, path):\n",
    "        if path in self:\n",
    "            file_time, file_data = super().__getitem__(path)\n",
    "            if getmtime(path) == file_time:\n",
    "                return file_data\n",
    "        file_data = self._load_file_data(path)\n",
    "        self.__setitem__(path, file_data)\n",
    "        return file_data\n",
    "    \n",
    "    def __setitem__(self, path, data):\n",
    "        value = (getmtime(path), data)\n",
    "        super().__setitem__(path, value)"
   ]
  },
  {
   "cell_type": "code",
   "execution_count": null,
   "id": "d342038e-5547-4a26-84a2-1a8dde98dbad",
   "metadata": {},
   "outputs": [],
   "source": [
    "def load_variable_data(path):\n",
    "    file_extension = splitext(path)[1]\n",
    "    with open(path, 'rt') as file:\n",
    "        if file_extension == '.dictionary':\n",
    "            data = json.load(file)\n",
    "        else:\n",
    "            data = file.read().rstrip()\n",
    "    return value\n",
    "\n",
    "def load_\n",
    "\n",
    "FILE_CACHE = FileCache()"
   ]
  }
 ],
 "metadata": {
  "kernelspec": {
   "display_name": "Python 3 (ipykernel)",
   "language": "python",
   "name": "python3"
  },
  "language_info": {
   "codemirror_mode": {
    "name": "ipython",
    "version": 3
   },
   "file_extension": ".py",
   "mimetype": "text/x-python",
   "name": "python",
   "nbconvert_exporter": "python",
   "pygments_lexer": "ipython3",
   "version": "3.9.5"
  }
 },
 "nbformat": 4,
 "nbformat_minor": 5
}
