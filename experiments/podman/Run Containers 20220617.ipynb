{
 "cells": [
  {
   "cell_type": "markdown",
   "id": "1edf126f-24d9-4233-a8ee-10546b1e3aaf",
   "metadata": {},
   "source": [
    "- [Done] Prepare .containerfile and .containerignore\n",
    "- [Done] Build container\n",
    "- [Done] Put files into the container\n",
    "- [Done] Run container\n",
    "- [Done] Get files from the container\n",
    "- [Done] Kill the container"
   ]
  },
  {
   "cell_type": "code",
   "execution_count": null,
   "id": "ab4f89a0-0335-4550-a340-ec253774193f",
   "metadata": {},
   "outputs": [],
   "source": [
    "# Open the automation_folder\n",
    "from pathlib import Path\n",
    "examples_folder = Path('~/Projects/crosscompute-examples').expanduser()\n",
    "examples_folder"
   ]
  },
  {
   "cell_type": "code",
   "execution_count": null,
   "id": "38e308e3-fef2-4ef5-89cb-f6aff4a1d14f",
   "metadata": {},
   "outputs": [],
   "source": [
    "automation_folder = examples_folder / 'tools' / 'add-numbers'\n",
    "automation_folder"
   ]
  },
  {
   "cell_type": "code",
   "execution_count": null,
   "id": "e33e2671-1a3d-4224-b154-4d6deb9c8b98",
   "metadata": {},
   "outputs": [],
   "source": [
    "ls $automation_folder -a"
   ]
  },
  {
   "cell_type": "code",
   "execution_count": null,
   "id": "ab66b996-69c1-4ec6-8c68-13b15ab45534",
   "metadata": {},
   "outputs": [],
   "source": [
    "from crosscompute.routines.configuration import load_configuration\n",
    "configuration = load_configuration(automation_folder / 'automate.yml')\n",
    "configuration"
   ]
  },
  {
   "cell_type": "code",
   "execution_count": null,
   "id": "a1774c5d-28e6-4df7-816e-fa1cc2dc3f96",
   "metadata": {},
   "outputs": [],
   "source": [
    "from crosscompute.constants import MODE_NAMES\n",
    "mode_folder_by_name = {_ + '_folder': 'runs/next/' + _ for _ in MODE_NAMES}\n",
    "mode_folder_by_name"
   ]
  },
  {
   "cell_type": "code",
   "execution_count": null,
   "id": "10af61cf-63ca-45d0-b003-5b99d0a34e21",
   "metadata": {},
   "outputs": [],
   "source": [
    "script_definitions = configuration.script_definitions\n",
    "command_strings = [_.get_command_string() for _ in script_definitions]\n",
    "command_strings"
   ]
  },
  {
   "cell_type": "code",
   "execution_count": null,
   "id": "d981b41c-0f38-47ca-89d5-cc422e4c51fb",
   "metadata": {},
   "outputs": [],
   "source": [
    "import shlex"
   ]
  },
  {
   "cell_type": "code",
   "execution_count": null,
   "id": "3fb18869-6dda-403a-8a4d-136a81dba4c5",
   "metadata": {},
   "outputs": [],
   "source": [
    "command_texts = [_.format(**mode_folder_by_name) for _ in command_strings]\n",
    "command_texts"
   ]
  },
  {
   "cell_type": "code",
   "execution_count": null,
   "id": "5d3324c2-1d4c-4409-bbd8-57e562be1005",
   "metadata": {},
   "outputs": [],
   "source": [
    "PIPE_TEXT = ' 1>runs/debug/stdout.txt 2>runs/debug/stderr.txt'\n",
    "command_texts = [_ + PIPE_TEXT for _ in command_texts]"
   ]
  },
  {
   "cell_type": "code",
   "execution_count": null,
   "id": "9e0ad084-e8bf-4ede-ba28-dce05b4ecb52",
   "metadata": {},
   "outputs": [],
   "source": [
    "command_lists = [shlex.split(_) for _ in command_texts]\n",
    "command_lists"
   ]
  },
  {
   "cell_type": "code",
   "execution_count": null,
   "id": "5c5eba0f-7c13-4228-91f8-a99905008778",
   "metadata": {},
   "outputs": [],
   "source": [
    "bash_script_text = '\\n'.join(command_texts)\n",
    "bash_script_text"
   ]
  },
  {
   "cell_type": "code",
   "execution_count": null,
   "id": "5d463fcc-153e-4c6c-8ffc-8ed1e7a9e70d",
   "metadata": {},
   "outputs": [],
   "source": [
    "base_image_tag_name = configuration['environment']['container']['image']"
   ]
  },
  {
   "cell_type": "code",
   "execution_count": null,
   "id": "442873d0-5b0e-4b17-8623-c9b9e6923c71",
   "metadata": {},
   "outputs": [],
   "source": [
    "# Prepare .containerignore\n",
    "CONTAINER_IGNORE_TEXT = '''\\\n",
    ".containerfile\n",
    ".containerignore\n",
    ".gitignore\n",
    ".ipynb_checkpoints\n",
    "batches/\n",
    "runs/\n",
    "tests/'''\n",
    "container_ignore_name = '.containerignore'\n",
    "(automation_folder / container_ignore_name).open('wt').write(CONTAINER_IGNORE_TEXT)"
   ]
  },
  {
   "cell_type": "code",
   "execution_count": null,
   "id": "95710f5a-e1d6-45cc-9ebd-3b9981065ca3",
   "metadata": {},
   "outputs": [],
   "source": [
    "# Prepare .containerfile\n",
    "from jinja2 import Template\n",
    "CONTAINER_FILE_TEXT = Template('''\\\n",
    "FROM {{ base_image_tag_name }}\n",
    "RUN useradd user\n",
    "USER user\n",
    "WORKDIR /home/user\n",
    "COPY --chown=user:user . .\n",
    "RUN mkdir runs/next/input runs/next/log runs/next/debug runs/next/output -p\n",
    "CMD [\"sleep\", \"infinity\"]''')\n",
    "container_file_text = CONTAINER_FILE_TEXT.render(\n",
    "    base_image_tag_name=base_image_tag_name)\n",
    "container_file_name = '.containerfile'\n",
    "(automation_folder / container_file_name).open('wt').write(container_file_text)\n",
    "print(container_file_text)"
   ]
  },
  {
   "cell_type": "code",
   "execution_count": null,
   "id": "d53a9e05-6b5f-428a-a72e-17fb22297334",
   "metadata": {},
   "outputs": [],
   "source": [
    "automation_definition = configuration.automation_definitions[0]"
   ]
  },
  {
   "cell_type": "code",
   "execution_count": null,
   "id": "faeffced-316c-400e-bea1-38545cee0a52",
   "metadata": {},
   "outputs": [],
   "source": [
    "automation_name = automation_definition.name\n",
    "automation_slug = automation_definition.slug\n",
    "automation_version = automation_definition.version"
   ]
  },
  {
   "cell_type": "code",
   "execution_count": null,
   "id": "c10d67c3-45c7-43e8-a925-cd159496018d",
   "metadata": {},
   "outputs": [],
   "source": [
    "image_tag_name = f'{automation_slug}:{automation_version}'\n",
    "image_tag_name"
   ]
  },
  {
   "cell_type": "code",
   "execution_count": null,
   "id": "7e28af14-99be-4f55-8e28-c32126026fd3",
   "metadata": {},
   "outputs": [],
   "source": [
    "import subprocess"
   ]
  },
  {
   "cell_type": "code",
   "execution_count": null,
   "id": "cd31c524-6726-4cf7-b4f1-36a14372e6c3",
   "metadata": {},
   "outputs": [],
   "source": [
    "subprocess.run(['podman', 'build', '-t', image_tag_name, '-f', container_file_name], cwd=automation_folder)"
   ]
  },
  {
   "cell_type": "code",
   "execution_count": null,
   "id": "2572da02-ee11-4935-b41c-fa12be68842d",
   "metadata": {},
   "outputs": [],
   "source": [
    "subprocess.run(['podman', 'images'])"
   ]
  },
  {
   "cell_type": "code",
   "execution_count": null,
   "id": "87afb747-d901-4475-a999-f47cb12a7ddb",
   "metadata": {},
   "outputs": [],
   "source": [
    "process = subprocess.run(['podman', 'run', '-d', image_tag_name], capture_output=True)"
   ]
  },
  {
   "cell_type": "code",
   "execution_count": null,
   "id": "8b09a6d3-cd33-4b22-baeb-55a453e2091a",
   "metadata": {},
   "outputs": [],
   "source": [
    "container_id = process.stdout.decode().strip()\n",
    "container_id"
   ]
  },
  {
   "cell_type": "code",
   "execution_count": null,
   "id": "caabddc6-4909-49bb-8dee-922f89e7fac7",
   "metadata": {},
   "outputs": [],
   "source": [
    "subprocess.run(['podman', 'ps'])"
   ]
  },
  {
   "cell_type": "code",
   "execution_count": null,
   "id": "d978f351-29d0-4937-a4e9-e1a85e9cf203",
   "metadata": {},
   "outputs": [],
   "source": [
    "subprocess.run(['podman', 'cp', 'runs/2-3/input', container_id + ':runs/next/'], cwd=automation_folder)"
   ]
  },
  {
   "cell_type": "code",
   "execution_count": null,
   "id": "6b7f9410-768e-41e0-a277-4a604c862f3e",
   "metadata": {},
   "outputs": [],
   "source": [
    "subprocess.run(['podman', 'exec', container_id, 'python', 'run.py', 'runs/next/input', 'runs/next/output'], cwd=automation_folder)"
   ]
  },
  {
   "cell_type": "code",
   "execution_count": null,
   "id": "d8396560-90fe-45eb-9440-4b9dd4cde138",
   "metadata": {},
   "outputs": [],
   "source": [
    "subprocess.run(['podman', 'cp', container_id + ':runs/next/.', 'runs/2-3'], cwd=automation_folder)"
   ]
  },
  {
   "cell_type": "code",
   "execution_count": null,
   "id": "251d309c-18ff-480b-b6bf-17c44fcb84bb",
   "metadata": {},
   "outputs": [],
   "source": [
    "subprocess.run(['podman', 'kill', container_id])"
   ]
  }
 ],
 "metadata": {
  "kernelspec": {
   "display_name": "Python 3 (ipykernel)",
   "language": "python",
   "name": "python3"
  },
  "language_info": {
   "codemirror_mode": {
    "name": "ipython",
    "version": 3
   },
   "file_extension": ".py",
   "mimetype": "text/x-python",
   "name": "python",
   "nbconvert_exporter": "python",
   "pygments_lexer": "ipython3",
   "version": "3.10.4"
  }
 },
 "nbformat": 4,
 "nbformat_minor": 5
}
